{
 "cells": [
  {
   "cell_type": "raw",
   "id": "38bde74b",
   "metadata": {},
   "source": [
    "---\n",
    "title: \"Video Game Sales Data Cleaning in R\"\n",
    "author: \"Theresa Gyamfi Allotey\"\n",
    "date: \"2025-05-20\"\n",
    "output:\n",
    "  html_notebook: default\n",
    "  html_document: default\n",
    "---"
   ]
  },
  {
   "cell_type": "code",
   "execution_count": null,
   "id": "d2ca015e",
   "metadata": {
    "name": "setup",
    "tags": [
     "remove_cell"
    ]
   },
   "outputs": [],
   "source": [
    "knitr::opts_chunk$set(echo = TRUE)"
   ]
  },
  {
   "cell_type": "markdown",
   "id": "eb07eee8",
   "metadata": {},
   "source": [
    "## Introduction\n",
    "\n",
    "This document outlines the data cleaning process for the `vgsales.csv` dataset, sourced from Kaggle. The dataset contains 16,598 records of video game sales across 11 columns: `Rank`, `Name`, `Platform`, `Year`, `Genre`, `Publisher`, `NA_Sales`, `EU_Sales`, `JP_Sales`, `Other_Sales`, and `Global_Sales`. The goal is to clean the data by addressing missing values, duplicates, and data types, producing `vgsales_cleaned.csv` for downstream analysis or visualization (e.g., in Tableau).\n",
    "\n",
    "This process showcases data cleaning skills essential for data analytics, including handling missing data, transforming variables, and ensuring data quality, aligned with industry-standard practices.\n",
    "\n",
    "## Load Required Libraries\n",
    "\n",
    "Load R packages for data manipulation, summary statistics, and exploratory data analysis (EDA). Install if not already available."
   ]
  },
  {
   "cell_type": "code",
   "execution_count": null,
   "id": "e09100bf",
   "metadata": {
    "eval": false,
    "name": "load-libraries"
   },
   "outputs": [],
   "source": [
    "# Install packages if not present\n",
    "if (!require(tidyverse)) install.packages(\"tidyverse\", repos = \"http://cran.us.r-project.org\")\n",
    "if (!require(skimr)) install.packages(\"skimr\", repos = \"http://cran.us.r-project.org\")\n",
    "if (!require(DataExplorer)) install.packages(\"DataExplorer\", repos = \"http://cran.us.r-project.org\")\n",
    "\n",
    "library(tidyverse)     # For data manipulation and visualization\n",
    "library(skimr)         # For summary statistics\n",
    "library(DataExplorer)  # For automated EDA"
   ]
  },
  {
   "cell_type": "markdown",
   "id": "dc2e4e7c",
   "metadata": {},
   "source": [
    "## Read the Dataset\n",
    "\n",
    "Load the dataset, treating \"N/A\" and empty strings as missing values."
   ]
  },
  {
   "cell_type": "code",
   "execution_count": null,
   "id": "8760aab2",
   "metadata": {
    "name": "read-data"
   },
   "outputs": [],
   "source": [
    "df <- read.csv(\"/kaggle/input/video-game-sales/vgsales.csv\", na.strings = c(\"N/A\", \"\"))"
   ]
  },
  {
   "cell_type": "markdown",
   "id": "be368b8e",
   "metadata": {},
   "source": [
    "## Initial Data Inspection\n",
    "\n",
    "Inspect the dataset to identify structure, dimensions, and issues like missing values or incorrect data types.\n",
    "\n",
    "### Check Dimensions\n",
    "\n",
    "Verify the number of rows and columns."
   ]
  },
  {
   "cell_type": "code",
   "execution_count": null,
   "id": "ed14d78c",
   "metadata": {
    "name": "dim"
   },
   "outputs": [],
   "source": [
    "dim(df)"
   ]
  },
  {
   "cell_type": "markdown",
   "id": "0dbccc18",
   "metadata": {},
   "source": [
    "### Inspect Structure\n",
    "\n",
    "Examine data types and sample values."
   ]
  },
  {
   "cell_type": "code",
   "execution_count": null,
   "id": "44fd420f",
   "metadata": {
    "name": "structure"
   },
   "outputs": [],
   "source": [
    "str(df)"
   ]
  },
  {
   "cell_type": "markdown",
   "id": "142d5767",
   "metadata": {},
   "source": [
    "### View First Few Rows\n",
    "\n",
    "Preview the data to confirm content."
   ]
  },
  {
   "cell_type": "code",
   "execution_count": null,
   "id": "51e18305",
   "metadata": {
    "name": "head"
   },
   "outputs": [],
   "source": [
    "head(df)"
   ]
  },
  {
   "cell_type": "markdown",
   "id": "bdb6d056",
   "metadata": {},
   "source": [
    "### Summary Statistics\n",
    "\n",
    "Summarize missing values and distributions using `skimr`."
   ]
  },
  {
   "cell_type": "code",
   "execution_count": null,
   "id": "d84a97ce",
   "metadata": {
    "name": "skim"
   },
   "outputs": [],
   "source": [
    "skim(df)"
   ]
  },
  {
   "cell_type": "markdown",
   "id": "f553c792",
   "metadata": {},
   "source": [
    "### Automated EDA\n",
    "\n",
    "Visualize missing values and distributions with `DataExplorer`."
   ]
  },
  {
   "cell_type": "code",
   "execution_count": null,
   "id": "3536acc2",
   "metadata": {
    "eval": true,
    "name": "eda"
   },
   "outputs": [],
   "source": [
    "plot_missing(df)   # Missing data visualization\n",
    "plot_histogram(df) # Histograms for numeric columns"
   ]
  },
  {
   "cell_type": "markdown",
   "id": "aabce481",
   "metadata": {},
   "source": [
    "## Data Cleaning Steps\n",
    "\n",
    "Based on inspection, address:\n",
    "\n",
    "- Missing `Year` values: Impute with median.\n",
    "- Unknown publishers: Replace with `NA`, impute with mode.\n",
    "- Duplicates: Remove exact duplicates.\n",
    "- Skewed sales: Add `Global_Sales_log` for visualizations.\n",
    "- Categorical variables: Convert `Platform`, `Genre`, `Publisher` to factors.\n",
    "- Missing sales: Impute with 0.\n",
    "\n",
    "### Step 1: Handle Missing Year Values\n",
    "\n",
    "Impute missing `Year` values with the median to support time-based analysis."
   ]
  },
  {
   "cell_type": "code",
   "execution_count": null,
   "id": "c45560a8",
   "metadata": {
    "name": "clean-year"
   },
   "outputs": [],
   "source": [
    "# Check missing Year values\n",
    "sum(is.na(df$Year))\n",
    "\n",
    "# Convert Year to numeric\n",
    "df$Year <- as.numeric(df$Year)\n",
    "\n",
    "# Impute with median\n",
    "df$Year[is.na(df$Year)] <- median(df$Year, na.rm = TRUE)\n",
    "\n",
    "# Verify\n",
    "sum(is.na(df$Year))"
   ]
  },
  {
   "cell_type": "markdown",
   "id": "a318cde0",
   "metadata": {},
   "source": [
    "### Step 2: Handle Unknown Publishers\n",
    "\n",
    "Replace \"Unknown\" in `Publisher` with `NA` and impute with the mode (most frequent publisher)."
   ]
  },
  {
   "cell_type": "code",
   "execution_count": null,
   "id": "9b307989",
   "metadata": {
    "name": "clean-publisher"
   },
   "outputs": [],
   "source": [
    "# Check Unknown publishers\n",
    "sum(df$Publisher == \"Unknown\", na.rm = TRUE)\n",
    "\n",
    "# Replace Unknown with NA\n",
    "df$Publisher[df$Publisher == \"Unknown\"] <- NA\n",
    "\n",
    "# Calculate mode publisher\n",
    "mode_publisher <- names(sort(table(df$Publisher), decreasing = TRUE))[1]\n",
    "\n",
    "# Impute NA with mode\n",
    "df$Publisher[is.na(df$Publisher)] <- mode_publisher\n",
    "\n",
    "# Verify\n",
    "sum(df$Publisher == \"Unknown\", na.rm = TRUE)\n",
    "sum(is.na(df$Publisher))"
   ]
  },
  {
   "cell_type": "markdown",
   "id": "f66ea92d",
   "metadata": {},
   "source": [
    "### Step 3: Remove Duplicates\n",
    "\n",
    "Remove exact duplicates to avoid overcounting."
   ]
  },
  {
   "cell_type": "code",
   "execution_count": null,
   "id": "4f4d7ada",
   "metadata": {
    "name": "clean-duplicates"
   },
   "outputs": [],
   "source": [
    "# Check duplicates\n",
    "sum(duplicated(df))\n",
    "\n",
    "# Remove duplicates\n",
    "df <- df[!duplicated(df), ]\n",
    "\n",
    "# Verify\n",
    "sum(duplicated(df))\n",
    "dim(df)"
   ]
  },
  {
   "cell_type": "markdown",
   "id": "ca5283fa",
   "metadata": {},
   "source": [
    "### Step 4: Add Log-Transformed Global Sales\n",
    "\n",
    "Add `Global_Sales_log` using `log1p` to handle skewness for visualizations."
   ]
  },
  {
   "cell_type": "code",
   "execution_count": null,
   "id": "a9c535fa",
   "metadata": {
    "name": "add-log-sales"
   },
   "outputs": [],
   "source": [
    "# Add log-transformed Global_Sales\n",
    "df$Global_Sales_log <- log1p(df$Global_Sales)\n",
    "\n",
    "# Preview\n",
    "summary(df$Global_Sales_log)"
   ]
  },
  {
   "cell_type": "markdown",
   "id": "eb1280e2",
   "metadata": {},
   "source": [
    "### Step 5: Convert Categorical Columns to Factors\n",
    "\n",
    "Convert `Platform`, `Genre`, and `Publisher` to factors for grouping in analysis."
   ]
  },
  {
   "cell_type": "code",
   "execution_count": null,
   "id": "edeaea6c",
   "metadata": {
    "name": "convert-factors"
   },
   "outputs": [],
   "source": [
    "# Convert to factors\n",
    "df$Platform <- as.factor(df$Platform)\n",
    "df$Genre <- as.factor(df$Genre)\n",
    "df$Publisher <- as.factor(df$Publisher)\n",
    "\n",
    "# Verify\n",
    "str(df)"
   ]
  },
  {
   "cell_type": "markdown",
   "id": "1cefba59",
   "metadata": {},
   "source": [
    "### Step 6: Handle Missing Sales Values\n",
    "\n",
    "Impute missing sales values with 0, assuming no sales recorded."
   ]
  },
  {
   "cell_type": "code",
   "execution_count": null,
   "id": "ddec9694",
   "metadata": {
    "name": "clean-sales"
   },
   "outputs": [],
   "source": [
    "# Check missing sales\n",
    "colSums(is.na(df[, c(\"NA_Sales\", \"EU_Sales\", \"JP_Sales\", \"Other_Sales\", \"Global_Sales\")]))\n",
    "\n",
    "# Impute with 0\n",
    "df$NA_Sales[is.na(df$NA_Sales)] <- 0\n",
    "df$EU_Sales[is.na(df$EU_Sales)] <- 0\n",
    "df$JP_Sales[is.na(df$JP_Sales)] <- 0\n",
    "df$Other_Sales[is.na(df$Other_Sales)] <- 0\n",
    "df$Global_Sales[is.na(df$Global_Sales)] <- 0\n",
    "\n",
    "# Verify\n",
    "colSums(is.na(df[, c(\"NA_Sales\", \"EU_Sales\", \"JP_Sales\", \"Other_Sales\", \"Global_Sales\")]))"
   ]
  },
  {
   "cell_type": "markdown",
   "id": "00db89a3",
   "metadata": {},
   "source": [
    "### Step 7: Save Cleaned Dataset\n",
    "\n",
    "Save the cleaned dataset as `vgsales_cleaned.csv`."
   ]
  },
  {
   "cell_type": "code",
   "execution_count": null,
   "id": "0d82b269",
   "metadata": {
    "name": "save-data"
   },
   "outputs": [],
   "source": [
    "# Save cleaned dataset\n",
    "write.csv(df, \"vgsales_cleaned.csv\", row.names = FALSE)\n",
    "\n",
    "# Confirm file creation\n",
    "file.exists(\"vgsales_cleaned.csv\")"
   ]
  },
  {
   "cell_type": "markdown",
   "id": "61e8a14d",
   "metadata": {},
   "source": [
    "## Final Data Inspection\n",
    "\n",
    "Verify the cleaned dataset’s structure and completeness."
   ]
  },
  {
   "cell_type": "code",
   "execution_count": null,
   "id": "46ba59c6",
   "metadata": {
    "name": "final-inspection"
   },
   "outputs": [],
   "source": [
    "# Dimensions\n",
    "dim(df)\n",
    "\n",
    "# Structure\n",
    "str(df)\n",
    "\n",
    "# Missing values\n",
    "plot_missing(df)"
   ]
  }
 ],
 "metadata": {
  "jupytext": {
   "cell_metadata_filter": "eval,tags,name,-all",
   "main_language": "R",
   "notebook_metadata_filter": "-all"
  }
 },
 "nbformat": 4,
 "nbformat_minor": 5
}
